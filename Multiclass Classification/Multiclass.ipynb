{
 "cells": [
  {
   "cell_type": "markdown",
   "metadata": {},
   "source": [
    "# Multiclass Classification"
   ]
  },
  {
   "cell_type": "code",
   "execution_count": 1,
   "metadata": {},
   "outputs": [],
   "source": [
    "from warnings import filterwarnings\n",
    "filterwarnings('ignore')"
   ]
  },
  {
   "cell_type": "markdown",
   "metadata": {},
   "source": [
    "### Create a multiclass dataset"
   ]
  },
  {
   "cell_type": "code",
   "execution_count": 2,
   "metadata": {},
   "outputs": [],
   "source": [
    "from sklearn.datasets import make_classification\n",
    "n = 4\n",
    "X, Y = make_classification(n_samples=8000, n_features=30, n_informative=15, n_classes=n, random_state=42) "
   ]
  },
  {
   "cell_type": "code",
   "execution_count": 3,
   "metadata": {},
   "outputs": [
    {
     "data": {
      "text/plain": [
       "array([[ 1.18989763,  1.07519621,  1.9712155 , -2.78502226,  0.15851885,\n",
       "         0.10576963, -1.92585519, -0.98914574,  0.89771514,  2.61154639,\n",
       "         0.40356706, -2.38658943, -1.41711657,  2.69842988,  4.51088613,\n",
       "        -1.03084425, -2.23409045,  0.05608878, -0.70583655,  0.54856488,\n",
       "        -0.1350877 ,  0.63001972, -2.4405616 , -3.72083607,  0.51809059,\n",
       "        -0.88265064,  0.97481641, -1.47025468,  0.06397232, -0.51422152],\n",
       "       [ 0.65042513,  0.48024195,  2.24436989,  0.91582403,  4.32433842,\n",
       "         0.80864579, -1.51338839,  0.73204491, -0.48853024, -1.11047179,\n",
       "        -0.57394658, -0.06773579,  1.60386036,  2.25873392, -4.60009364,\n",
       "        -0.33822724,  0.1552555 ,  1.15004811,  0.3677702 , -1.34213584,\n",
       "        -0.42012914,  2.69022457,  5.81684911, -1.53294049,  0.87006735,\n",
       "        -1.72364277, -1.06324656, -0.71016267,  1.24918837, -0.44310873],\n",
       "       [ 0.01300429,  0.19766843,  4.28019934, -1.69922259,  1.95333671,\n",
       "         1.80821602, -0.83458112, -0.28264228,  0.87222117, -2.56072082,\n",
       "         1.74103791, -0.11048853,  1.35063632, -1.79192134, -3.63939156,\n",
       "        -0.55830529, -0.86010151,  1.69432578,  0.16080874, -1.18908242,\n",
       "        -2.99243752,  1.05142475, -3.2447223 , -4.59035457,  0.50882856,\n",
       "         0.35670289, -1.94492981,  2.14879288,  0.03475455,  0.67183154]])"
      ]
     },
     "execution_count": 3,
     "metadata": {},
     "output_type": "execute_result"
    }
   ],
   "source": [
    "X[0:3]"
   ]
  },
  {
   "cell_type": "code",
   "execution_count": 4,
   "metadata": {},
   "outputs": [
    {
     "data": {
      "text/plain": [
       "array([3, 3, 2, 2, 3])"
      ]
     },
     "execution_count": 4,
     "metadata": {},
     "output_type": "execute_result"
    }
   ],
   "source": [
    "Y[0:5]"
   ]
  },
  {
   "cell_type": "code",
   "execution_count": 5,
   "metadata": {},
   "outputs": [
    {
     "data": {
      "text/plain": [
       "array([0, 1, 2, 3])"
      ]
     },
     "execution_count": 5,
     "metadata": {},
     "output_type": "execute_result"
    }
   ],
   "source": [
    "import numpy as np \n",
    "np.unique(Y)"
   ]
  },
  {
   "cell_type": "markdown",
   "metadata": {},
   "source": [
    "### Convert X and Y in dataframe format"
   ]
  },
  {
   "cell_type": "code",
   "execution_count": 6,
   "metadata": {},
   "outputs": [
    {
     "data": {
      "text/plain": [
       "['x1',\n",
       " 'x2',\n",
       " 'x3',\n",
       " 'x4',\n",
       " 'x5',\n",
       " 'x6',\n",
       " 'x7',\n",
       " 'x8',\n",
       " 'x9',\n",
       " 'x10',\n",
       " 'x11',\n",
       " 'x12',\n",
       " 'x13',\n",
       " 'x14',\n",
       " 'x15',\n",
       " 'x16',\n",
       " 'x17',\n",
       " 'x18',\n",
       " 'x19',\n",
       " 'x20',\n",
       " 'x21',\n",
       " 'x22',\n",
       " 'x23',\n",
       " 'x24',\n",
       " 'x25',\n",
       " 'x26',\n",
       " 'x27',\n",
       " 'x28',\n",
       " 'x29',\n",
       " 'x30']"
      ]
     },
     "execution_count": 6,
     "metadata": {},
     "output_type": "execute_result"
    }
   ],
   "source": [
    "cols = [f'x{i+1}' for i in range(30)]\n",
    "cols"
   ]
  },
  {
   "cell_type": "code",
   "execution_count": 7,
   "metadata": {},
   "outputs": [],
   "source": [
    "import pandas as pd\n",
    "X = pd.DataFrame(X, columns=cols)\n",
    "Y = pd.DataFrame(Y, columns=['target'])"
   ]
  },
  {
   "cell_type": "code",
   "execution_count": 8,
   "metadata": {},
   "outputs": [
    {
     "data": {
      "text/html": [
       "<div>\n",
       "<style scoped>\n",
       "    .dataframe tbody tr th:only-of-type {\n",
       "        vertical-align: middle;\n",
       "    }\n",
       "\n",
       "    .dataframe tbody tr th {\n",
       "        vertical-align: top;\n",
       "    }\n",
       "\n",
       "    .dataframe thead th {\n",
       "        text-align: right;\n",
       "    }\n",
       "</style>\n",
       "<table border=\"1\" class=\"dataframe\">\n",
       "  <thead>\n",
       "    <tr style=\"text-align: right;\">\n",
       "      <th></th>\n",
       "      <th>x1</th>\n",
       "      <th>x2</th>\n",
       "      <th>x3</th>\n",
       "      <th>x4</th>\n",
       "      <th>x5</th>\n",
       "      <th>x6</th>\n",
       "      <th>x7</th>\n",
       "      <th>x8</th>\n",
       "      <th>x9</th>\n",
       "      <th>x10</th>\n",
       "      <th>...</th>\n",
       "      <th>x21</th>\n",
       "      <th>x22</th>\n",
       "      <th>x23</th>\n",
       "      <th>x24</th>\n",
       "      <th>x25</th>\n",
       "      <th>x26</th>\n",
       "      <th>x27</th>\n",
       "      <th>x28</th>\n",
       "      <th>x29</th>\n",
       "      <th>x30</th>\n",
       "    </tr>\n",
       "  </thead>\n",
       "  <tbody>\n",
       "    <tr>\n",
       "      <th>0</th>\n",
       "      <td>1.189898</td>\n",
       "      <td>1.075196</td>\n",
       "      <td>1.971215</td>\n",
       "      <td>-2.785022</td>\n",
       "      <td>0.158519</td>\n",
       "      <td>0.105770</td>\n",
       "      <td>-1.925855</td>\n",
       "      <td>-0.989146</td>\n",
       "      <td>0.897715</td>\n",
       "      <td>2.611546</td>\n",
       "      <td>...</td>\n",
       "      <td>-0.135088</td>\n",
       "      <td>0.630020</td>\n",
       "      <td>-2.440562</td>\n",
       "      <td>-3.720836</td>\n",
       "      <td>0.518091</td>\n",
       "      <td>-0.882651</td>\n",
       "      <td>0.974816</td>\n",
       "      <td>-1.470255</td>\n",
       "      <td>0.063972</td>\n",
       "      <td>-0.514222</td>\n",
       "    </tr>\n",
       "    <tr>\n",
       "      <th>1</th>\n",
       "      <td>0.650425</td>\n",
       "      <td>0.480242</td>\n",
       "      <td>2.244370</td>\n",
       "      <td>0.915824</td>\n",
       "      <td>4.324338</td>\n",
       "      <td>0.808646</td>\n",
       "      <td>-1.513388</td>\n",
       "      <td>0.732045</td>\n",
       "      <td>-0.488530</td>\n",
       "      <td>-1.110472</td>\n",
       "      <td>...</td>\n",
       "      <td>-0.420129</td>\n",
       "      <td>2.690225</td>\n",
       "      <td>5.816849</td>\n",
       "      <td>-1.532940</td>\n",
       "      <td>0.870067</td>\n",
       "      <td>-1.723643</td>\n",
       "      <td>-1.063247</td>\n",
       "      <td>-0.710163</td>\n",
       "      <td>1.249188</td>\n",
       "      <td>-0.443109</td>\n",
       "    </tr>\n",
       "    <tr>\n",
       "      <th>2</th>\n",
       "      <td>0.013004</td>\n",
       "      <td>0.197668</td>\n",
       "      <td>4.280199</td>\n",
       "      <td>-1.699223</td>\n",
       "      <td>1.953337</td>\n",
       "      <td>1.808216</td>\n",
       "      <td>-0.834581</td>\n",
       "      <td>-0.282642</td>\n",
       "      <td>0.872221</td>\n",
       "      <td>-2.560721</td>\n",
       "      <td>...</td>\n",
       "      <td>-2.992438</td>\n",
       "      <td>1.051425</td>\n",
       "      <td>-3.244722</td>\n",
       "      <td>-4.590355</td>\n",
       "      <td>0.508829</td>\n",
       "      <td>0.356703</td>\n",
       "      <td>-1.944930</td>\n",
       "      <td>2.148793</td>\n",
       "      <td>0.034755</td>\n",
       "      <td>0.671832</td>\n",
       "    </tr>\n",
       "    <tr>\n",
       "      <th>3</th>\n",
       "      <td>0.705489</td>\n",
       "      <td>0.483920</td>\n",
       "      <td>-2.386701</td>\n",
       "      <td>-0.849569</td>\n",
       "      <td>6.364909</td>\n",
       "      <td>-0.350167</td>\n",
       "      <td>3.330057</td>\n",
       "      <td>-3.012621</td>\n",
       "      <td>0.256254</td>\n",
       "      <td>3.597020</td>\n",
       "      <td>...</td>\n",
       "      <td>0.208671</td>\n",
       "      <td>1.268165</td>\n",
       "      <td>9.008501</td>\n",
       "      <td>-2.749453</td>\n",
       "      <td>-0.218515</td>\n",
       "      <td>-1.131341</td>\n",
       "      <td>2.279746</td>\n",
       "      <td>1.053980</td>\n",
       "      <td>0.138332</td>\n",
       "      <td>-1.129947</td>\n",
       "    </tr>\n",
       "    <tr>\n",
       "      <th>4</th>\n",
       "      <td>-0.714800</td>\n",
       "      <td>0.850380</td>\n",
       "      <td>-1.570028</td>\n",
       "      <td>0.146249</td>\n",
       "      <td>-1.199749</td>\n",
       "      <td>1.231657</td>\n",
       "      <td>-0.571366</td>\n",
       "      <td>0.251685</td>\n",
       "      <td>-0.285070</td>\n",
       "      <td>-0.222989</td>\n",
       "      <td>...</td>\n",
       "      <td>-1.497961</td>\n",
       "      <td>-0.812994</td>\n",
       "      <td>1.685803</td>\n",
       "      <td>-1.056207</td>\n",
       "      <td>-1.269361</td>\n",
       "      <td>0.154063</td>\n",
       "      <td>-1.472332</td>\n",
       "      <td>-2.031469</td>\n",
       "      <td>-0.285093</td>\n",
       "      <td>-0.797438</td>\n",
       "    </tr>\n",
       "  </tbody>\n",
       "</table>\n",
       "<p>5 rows × 30 columns</p>\n",
       "</div>"
      ],
      "text/plain": [
       "         x1        x2        x3        x4        x5        x6        x7  \\\n",
       "0  1.189898  1.075196  1.971215 -2.785022  0.158519  0.105770 -1.925855   \n",
       "1  0.650425  0.480242  2.244370  0.915824  4.324338  0.808646 -1.513388   \n",
       "2  0.013004  0.197668  4.280199 -1.699223  1.953337  1.808216 -0.834581   \n",
       "3  0.705489  0.483920 -2.386701 -0.849569  6.364909 -0.350167  3.330057   \n",
       "4 -0.714800  0.850380 -1.570028  0.146249 -1.199749  1.231657 -0.571366   \n",
       "\n",
       "         x8        x9       x10  ...       x21       x22       x23       x24  \\\n",
       "0 -0.989146  0.897715  2.611546  ... -0.135088  0.630020 -2.440562 -3.720836   \n",
       "1  0.732045 -0.488530 -1.110472  ... -0.420129  2.690225  5.816849 -1.532940   \n",
       "2 -0.282642  0.872221 -2.560721  ... -2.992438  1.051425 -3.244722 -4.590355   \n",
       "3 -3.012621  0.256254  3.597020  ...  0.208671  1.268165  9.008501 -2.749453   \n",
       "4  0.251685 -0.285070 -0.222989  ... -1.497961 -0.812994  1.685803 -1.056207   \n",
       "\n",
       "        x25       x26       x27       x28       x29       x30  \n",
       "0  0.518091 -0.882651  0.974816 -1.470255  0.063972 -0.514222  \n",
       "1  0.870067 -1.723643 -1.063247 -0.710163  1.249188 -0.443109  \n",
       "2  0.508829  0.356703 -1.944930  2.148793  0.034755  0.671832  \n",
       "3 -0.218515 -1.131341  2.279746  1.053980  0.138332 -1.129947  \n",
       "4 -1.269361  0.154063 -1.472332 -2.031469 -0.285093 -0.797438  \n",
       "\n",
       "[5 rows x 30 columns]"
      ]
     },
     "execution_count": 8,
     "metadata": {},
     "output_type": "execute_result"
    }
   ],
   "source": [
    "X.head()"
   ]
  },
  {
   "cell_type": "code",
   "execution_count": 9,
   "metadata": {},
   "outputs": [
    {
     "data": {
      "text/html": [
       "<div>\n",
       "<style scoped>\n",
       "    .dataframe tbody tr th:only-of-type {\n",
       "        vertical-align: middle;\n",
       "    }\n",
       "\n",
       "    .dataframe tbody tr th {\n",
       "        vertical-align: top;\n",
       "    }\n",
       "\n",
       "    .dataframe thead th {\n",
       "        text-align: right;\n",
       "    }\n",
       "</style>\n",
       "<table border=\"1\" class=\"dataframe\">\n",
       "  <thead>\n",
       "    <tr style=\"text-align: right;\">\n",
       "      <th></th>\n",
       "      <th>target</th>\n",
       "    </tr>\n",
       "  </thead>\n",
       "  <tbody>\n",
       "    <tr>\n",
       "      <th>0</th>\n",
       "      <td>3</td>\n",
       "    </tr>\n",
       "    <tr>\n",
       "      <th>1</th>\n",
       "      <td>3</td>\n",
       "    </tr>\n",
       "    <tr>\n",
       "      <th>2</th>\n",
       "      <td>2</td>\n",
       "    </tr>\n",
       "    <tr>\n",
       "      <th>3</th>\n",
       "      <td>2</td>\n",
       "    </tr>\n",
       "    <tr>\n",
       "      <th>4</th>\n",
       "      <td>3</td>\n",
       "    </tr>\n",
       "  </tbody>\n",
       "</table>\n",
       "</div>"
      ],
      "text/plain": [
       "   target\n",
       "0       3\n",
       "1       3\n",
       "2       2\n",
       "3       2\n",
       "4       3"
      ]
     },
     "execution_count": 9,
     "metadata": {},
     "output_type": "execute_result"
    }
   ],
   "source": [
    "Y.head()"
   ]
  },
  {
   "cell_type": "code",
   "execution_count": 10,
   "metadata": {},
   "outputs": [
    {
     "data": {
      "text/plain": [
       "target\n",
       "1         2004\n",
       "3         2003\n",
       "2         2000\n",
       "0         1993\n",
       "Name: count, dtype: int64"
      ]
     },
     "execution_count": 10,
     "metadata": {},
     "output_type": "execute_result"
    }
   ],
   "source": [
    "Y.value_counts()"
   ]
  },
  {
   "cell_type": "markdown",
   "metadata": {},
   "source": [
    "### Perform Preprocessing on X"
   ]
  },
  {
   "cell_type": "code",
   "execution_count": 11,
   "metadata": {},
   "outputs": [],
   "source": [
    "from sklearn.pipeline import Pipeline\n",
    "from sklearn.impute import SimpleImputer\n",
    "from sklearn.preprocessing import StandardScaler"
   ]
  },
  {
   "cell_type": "code",
   "execution_count": 12,
   "metadata": {},
   "outputs": [],
   "source": [
    "num_pipe = Pipeline(steps=[('impute', SimpleImputer(strategy='mean')),\n",
    "                           ('scaler', StandardScaler())])"
   ]
  },
  {
   "cell_type": "code",
   "execution_count": 13,
   "metadata": {},
   "outputs": [
    {
     "data": {
      "text/plain": [
       "array([[ 1.17259637e+00,  1.07043883e+00,  6.05723729e-01, ...,\n",
       "        -4.24894019e-01,  6.54500620e-02, -5.05668952e-01],\n",
       "       [ 6.35220093e-01,  4.71223541e-01,  7.17452971e-01, ...,\n",
       "        -9.31363612e-02,  1.25606770e+00, -4.34953707e-01],\n",
       "       [ 2.76093043e-04,  1.86626243e-01,  1.55017500e+00, ...,\n",
       "         1.15471308e+00,  3.60991332e-02,  6.73753630e-01],\n",
       "       ...,\n",
       "       [ 1.06866046e-01,  1.20771035e+00, -7.12005672e-01, ...,\n",
       "        -1.73309368e-01, -2.24978142e-01, -1.55045081e+00],\n",
       "       [-5.61898576e-01,  5.08700675e-02, -2.54143563e-01, ...,\n",
       "         9.85066554e-03, -5.10522234e-01, -1.96819816e-01],\n",
       "       [ 8.33781180e-02, -1.43270878e+00,  7.28596764e-01, ...,\n",
       "        -1.55972516e+00,  1.42878534e+00,  3.30063674e-01]])"
      ]
     },
     "execution_count": 13,
     "metadata": {},
     "output_type": "execute_result"
    }
   ],
   "source": [
    "X_pre = num_pipe.fit_transform(X)\n",
    "X_pre"
   ]
  },
  {
   "cell_type": "code",
   "execution_count": 14,
   "metadata": {},
   "outputs": [
    {
     "data": {
      "text/plain": [
       "array(['x1', 'x2', 'x3', 'x4', 'x5', 'x6', 'x7', 'x8', 'x9', 'x10', 'x11',\n",
       "       'x12', 'x13', 'x14', 'x15', 'x16', 'x17', 'x18', 'x19', 'x20',\n",
       "       'x21', 'x22', 'x23', 'x24', 'x25', 'x26', 'x27', 'x28', 'x29',\n",
       "       'x30'], dtype=object)"
      ]
     },
     "execution_count": 14,
     "metadata": {},
     "output_type": "execute_result"
    }
   ],
   "source": [
    "cols = num_pipe.get_feature_names_out()\n",
    "cols"
   ]
  },
  {
   "cell_type": "code",
   "execution_count": 15,
   "metadata": {},
   "outputs": [
    {
     "data": {
      "text/html": [
       "<div>\n",
       "<style scoped>\n",
       "    .dataframe tbody tr th:only-of-type {\n",
       "        vertical-align: middle;\n",
       "    }\n",
       "\n",
       "    .dataframe tbody tr th {\n",
       "        vertical-align: top;\n",
       "    }\n",
       "\n",
       "    .dataframe thead th {\n",
       "        text-align: right;\n",
       "    }\n",
       "</style>\n",
       "<table border=\"1\" class=\"dataframe\">\n",
       "  <thead>\n",
       "    <tr style=\"text-align: right;\">\n",
       "      <th></th>\n",
       "      <th>x1</th>\n",
       "      <th>x2</th>\n",
       "      <th>x3</th>\n",
       "      <th>x4</th>\n",
       "      <th>x5</th>\n",
       "      <th>x6</th>\n",
       "      <th>x7</th>\n",
       "      <th>x8</th>\n",
       "      <th>x9</th>\n",
       "      <th>x10</th>\n",
       "      <th>...</th>\n",
       "      <th>x21</th>\n",
       "      <th>x22</th>\n",
       "      <th>x23</th>\n",
       "      <th>x24</th>\n",
       "      <th>x25</th>\n",
       "      <th>x26</th>\n",
       "      <th>x27</th>\n",
       "      <th>x28</th>\n",
       "      <th>x29</th>\n",
       "      <th>x30</th>\n",
       "    </tr>\n",
       "  </thead>\n",
       "  <tbody>\n",
       "    <tr>\n",
       "      <th>0</th>\n",
       "      <td>1.172596</td>\n",
       "      <td>1.070439</td>\n",
       "      <td>0.605724</td>\n",
       "      <td>-1.094554</td>\n",
       "      <td>0.067820</td>\n",
       "      <td>0.111409</td>\n",
       "      <td>-0.717072</td>\n",
       "      <td>-0.979947</td>\n",
       "      <td>0.892751</td>\n",
       "      <td>1.120256</td>\n",
       "      <td>...</td>\n",
       "      <td>-0.154308</td>\n",
       "      <td>0.653861</td>\n",
       "      <td>-0.365895</td>\n",
       "      <td>-1.411870</td>\n",
       "      <td>0.542396</td>\n",
       "      <td>-0.900517</td>\n",
       "      <td>0.296431</td>\n",
       "      <td>-0.424894</td>\n",
       "      <td>0.065450</td>\n",
       "      <td>-0.505669</td>\n",
       "    </tr>\n",
       "    <tr>\n",
       "      <th>1</th>\n",
       "      <td>0.635220</td>\n",
       "      <td>0.471224</td>\n",
       "      <td>0.717453</td>\n",
       "      <td>0.377608</td>\n",
       "      <td>1.752305</td>\n",
       "      <td>0.816611</td>\n",
       "      <td>-0.542636</td>\n",
       "      <td>0.733959</td>\n",
       "      <td>-0.490358</td>\n",
       "      <td>-0.487974</td>\n",
       "      <td>...</td>\n",
       "      <td>-0.438290</td>\n",
       "      <td>2.711767</td>\n",
       "      <td>1.023110</td>\n",
       "      <td>-0.575380</td>\n",
       "      <td>0.896711</td>\n",
       "      <td>-1.746515</td>\n",
       "      <td>-0.573670</td>\n",
       "      <td>-0.093136</td>\n",
       "      <td>1.256068</td>\n",
       "      <td>-0.434954</td>\n",
       "    </tr>\n",
       "    <tr>\n",
       "      <th>2</th>\n",
       "      <td>0.000276</td>\n",
       "      <td>0.186626</td>\n",
       "      <td>1.550175</td>\n",
       "      <td>-0.662633</td>\n",
       "      <td>0.793570</td>\n",
       "      <td>1.819488</td>\n",
       "      <td>-0.255563</td>\n",
       "      <td>-0.276433</td>\n",
       "      <td>0.867315</td>\n",
       "      <td>-1.114606</td>\n",
       "      <td>...</td>\n",
       "      <td>-3.001041</td>\n",
       "      <td>1.074796</td>\n",
       "      <td>-0.501165</td>\n",
       "      <td>-1.744310</td>\n",
       "      <td>0.533072</td>\n",
       "      <td>0.346213</td>\n",
       "      <td>-0.950083</td>\n",
       "      <td>1.154713</td>\n",
       "      <td>0.036099</td>\n",
       "      <td>0.673754</td>\n",
       "    </tr>\n",
       "    <tr>\n",
       "      <th>3</th>\n",
       "      <td>0.690070</td>\n",
       "      <td>0.474928</td>\n",
       "      <td>-1.176809</td>\n",
       "      <td>-0.324649</td>\n",
       "      <td>2.577428</td>\n",
       "      <td>-0.346036</td>\n",
       "      <td>1.505700</td>\n",
       "      <td>-2.994857</td>\n",
       "      <td>0.252742</td>\n",
       "      <td>1.546065</td>\n",
       "      <td>...</td>\n",
       "      <td>0.188174</td>\n",
       "      <td>1.291294</td>\n",
       "      <td>1.559987</td>\n",
       "      <td>-1.040485</td>\n",
       "      <td>-0.199104</td>\n",
       "      <td>-1.150688</td>\n",
       "      <td>0.853538</td>\n",
       "      <td>0.676860</td>\n",
       "      <td>0.140149</td>\n",
       "      <td>-1.117952</td>\n",
       "    </tr>\n",
       "    <tr>\n",
       "      <th>4</th>\n",
       "      <td>-0.724700</td>\n",
       "      <td>0.844013</td>\n",
       "      <td>-0.842763</td>\n",
       "      <td>0.071479</td>\n",
       "      <td>-0.481407</td>\n",
       "      <td>1.241022</td>\n",
       "      <td>-0.144247</td>\n",
       "      <td>0.255632</td>\n",
       "      <td>-0.287358</td>\n",
       "      <td>-0.104506</td>\n",
       "      <td>...</td>\n",
       "      <td>-1.512118</td>\n",
       "      <td>-0.787543</td>\n",
       "      <td>0.328214</td>\n",
       "      <td>-0.393113</td>\n",
       "      <td>-1.256931</td>\n",
       "      <td>0.142367</td>\n",
       "      <td>-0.748319</td>\n",
       "      <td>-0.669848</td>\n",
       "      <td>-0.285206</td>\n",
       "      <td>-0.787302</td>\n",
       "    </tr>\n",
       "  </tbody>\n",
       "</table>\n",
       "<p>5 rows × 30 columns</p>\n",
       "</div>"
      ],
      "text/plain": [
       "         x1        x2        x3        x4        x5        x6        x7  \\\n",
       "0  1.172596  1.070439  0.605724 -1.094554  0.067820  0.111409 -0.717072   \n",
       "1  0.635220  0.471224  0.717453  0.377608  1.752305  0.816611 -0.542636   \n",
       "2  0.000276  0.186626  1.550175 -0.662633  0.793570  1.819488 -0.255563   \n",
       "3  0.690070  0.474928 -1.176809 -0.324649  2.577428 -0.346036  1.505700   \n",
       "4 -0.724700  0.844013 -0.842763  0.071479 -0.481407  1.241022 -0.144247   \n",
       "\n",
       "         x8        x9       x10  ...       x21       x22       x23       x24  \\\n",
       "0 -0.979947  0.892751  1.120256  ... -0.154308  0.653861 -0.365895 -1.411870   \n",
       "1  0.733959 -0.490358 -0.487974  ... -0.438290  2.711767  1.023110 -0.575380   \n",
       "2 -0.276433  0.867315 -1.114606  ... -3.001041  1.074796 -0.501165 -1.744310   \n",
       "3 -2.994857  0.252742  1.546065  ...  0.188174  1.291294  1.559987 -1.040485   \n",
       "4  0.255632 -0.287358 -0.104506  ... -1.512118 -0.787543  0.328214 -0.393113   \n",
       "\n",
       "        x25       x26       x27       x28       x29       x30  \n",
       "0  0.542396 -0.900517  0.296431 -0.424894  0.065450 -0.505669  \n",
       "1  0.896711 -1.746515 -0.573670 -0.093136  1.256068 -0.434954  \n",
       "2  0.533072  0.346213 -0.950083  1.154713  0.036099  0.673754  \n",
       "3 -0.199104 -1.150688  0.853538  0.676860  0.140149 -1.117952  \n",
       "4 -1.256931  0.142367 -0.748319 -0.669848 -0.285206 -0.787302  \n",
       "\n",
       "[5 rows x 30 columns]"
      ]
     },
     "execution_count": 15,
     "metadata": {},
     "output_type": "execute_result"
    }
   ],
   "source": [
    "X_pre = pd.DataFrame(X_pre, columns=cols)\n",
    "X_pre.head()"
   ]
  },
  {
   "cell_type": "markdown",
   "metadata": {},
   "source": [
    "### Apply train test split"
   ]
  },
  {
   "cell_type": "code",
   "execution_count": 16,
   "metadata": {},
   "outputs": [],
   "source": [
    "from sklearn.model_selection import train_test_split\n",
    "xtrain, xtest, ytrain, ytest = train_test_split(X_pre, Y, test_size=0.2, random_state=42)"
   ]
  },
  {
   "cell_type": "code",
   "execution_count": 17,
   "metadata": {},
   "outputs": [
    {
     "data": {
      "text/plain": [
       "(6400, 30)"
      ]
     },
     "execution_count": 17,
     "metadata": {},
     "output_type": "execute_result"
    }
   ],
   "source": [
    "xtrain.shape"
   ]
  },
  {
   "cell_type": "code",
   "execution_count": 18,
   "metadata": {},
   "outputs": [
    {
     "data": {
      "text/plain": [
       "(1600, 30)"
      ]
     },
     "execution_count": 18,
     "metadata": {},
     "output_type": "execute_result"
    }
   ],
   "source": [
    "xtest.shape"
   ]
  },
  {
   "cell_type": "code",
   "execution_count": 19,
   "metadata": {},
   "outputs": [
    {
     "data": {
      "text/plain": [
       "target\n",
       "3         1625\n",
       "0         1612\n",
       "1         1587\n",
       "2         1576\n",
       "Name: count, dtype: int64"
      ]
     },
     "execution_count": 19,
     "metadata": {},
     "output_type": "execute_result"
    }
   ],
   "source": [
    "ytrain.value_counts()"
   ]
  },
  {
   "cell_type": "code",
   "execution_count": 20,
   "metadata": {},
   "outputs": [
    {
     "data": {
      "text/plain": [
       "target\n",
       "2         424\n",
       "1         417\n",
       "0         381\n",
       "3         378\n",
       "Name: count, dtype: int64"
      ]
     },
     "execution_count": 20,
     "metadata": {},
     "output_type": "execute_result"
    }
   ],
   "source": [
    "ytest.value_counts()"
   ]
  },
  {
   "cell_type": "markdown",
   "metadata": {},
   "source": [
    "### Onehot encode Y features"
   ]
  },
  {
   "cell_type": "code",
   "execution_count": 21,
   "metadata": {},
   "outputs": [
    {
     "name": "stdout",
     "output_type": "stream",
     "text": [
      "WARNING:tensorflow:From e:\\Deep Learning 6_8 pm Tue Wed\\repository\\venv\\Lib\\site-packages\\keras\\src\\losses.py:2976: The name tf.losses.sparse_softmax_cross_entropy is deprecated. Please use tf.compat.v1.losses.sparse_softmax_cross_entropy instead.\n",
      "\n"
     ]
    }
   ],
   "source": [
    "from keras.utils import to_categorical\n",
    "ytrain_cat = to_categorical(ytrain)\n",
    "ytest_cat = to_categorical(ytest)"
   ]
  },
  {
   "cell_type": "code",
   "execution_count": 22,
   "metadata": {},
   "outputs": [
    {
     "data": {
      "text/plain": [
       "array([[0., 0., 0., 1.],\n",
       "       [0., 0., 1., 0.],\n",
       "       [1., 0., 0., 0.],\n",
       "       [0., 0., 0., 1.],\n",
       "       [0., 0., 0., 1.]], dtype=float32)"
      ]
     },
     "execution_count": 22,
     "metadata": {},
     "output_type": "execute_result"
    }
   ],
   "source": [
    "ytrain_cat[0:5]"
   ]
  },
  {
   "cell_type": "code",
   "execution_count": 23,
   "metadata": {},
   "outputs": [
    {
     "data": {
      "text/html": [
       "<div>\n",
       "<style scoped>\n",
       "    .dataframe tbody tr th:only-of-type {\n",
       "        vertical-align: middle;\n",
       "    }\n",
       "\n",
       "    .dataframe tbody tr th {\n",
       "        vertical-align: top;\n",
       "    }\n",
       "\n",
       "    .dataframe thead th {\n",
       "        text-align: right;\n",
       "    }\n",
       "</style>\n",
       "<table border=\"1\" class=\"dataframe\">\n",
       "  <thead>\n",
       "    <tr style=\"text-align: right;\">\n",
       "      <th></th>\n",
       "      <th>target</th>\n",
       "    </tr>\n",
       "  </thead>\n",
       "  <tbody>\n",
       "    <tr>\n",
       "      <th>1467</th>\n",
       "      <td>3</td>\n",
       "    </tr>\n",
       "    <tr>\n",
       "      <th>5768</th>\n",
       "      <td>2</td>\n",
       "    </tr>\n",
       "    <tr>\n",
       "      <th>5714</th>\n",
       "      <td>0</td>\n",
       "    </tr>\n",
       "    <tr>\n",
       "      <th>1578</th>\n",
       "      <td>3</td>\n",
       "    </tr>\n",
       "    <tr>\n",
       "      <th>6958</th>\n",
       "      <td>3</td>\n",
       "    </tr>\n",
       "  </tbody>\n",
       "</table>\n",
       "</div>"
      ],
      "text/plain": [
       "      target\n",
       "1467       3\n",
       "5768       2\n",
       "5714       0\n",
       "1578       3\n",
       "6958       3"
      ]
     },
     "execution_count": 23,
     "metadata": {},
     "output_type": "execute_result"
    }
   ],
   "source": [
    "ytrain.head()"
   ]
  },
  {
   "cell_type": "code",
   "execution_count": 24,
   "metadata": {},
   "outputs": [
    {
     "data": {
      "text/plain": [
       "array([[0., 0., 0., 1.],\n",
       "       [0., 1., 0., 0.],\n",
       "       [0., 1., 0., 0.],\n",
       "       [0., 1., 0., 0.],\n",
       "       [1., 0., 0., 0.]], dtype=float32)"
      ]
     },
     "execution_count": 24,
     "metadata": {},
     "output_type": "execute_result"
    }
   ],
   "source": [
    "ytest_cat[0:5]"
   ]
  },
  {
   "cell_type": "code",
   "execution_count": 25,
   "metadata": {},
   "outputs": [
    {
     "data": {
      "text/html": [
       "<div>\n",
       "<style scoped>\n",
       "    .dataframe tbody tr th:only-of-type {\n",
       "        vertical-align: middle;\n",
       "    }\n",
       "\n",
       "    .dataframe tbody tr th {\n",
       "        vertical-align: top;\n",
       "    }\n",
       "\n",
       "    .dataframe thead th {\n",
       "        text-align: right;\n",
       "    }\n",
       "</style>\n",
       "<table border=\"1\" class=\"dataframe\">\n",
       "  <thead>\n",
       "    <tr style=\"text-align: right;\">\n",
       "      <th></th>\n",
       "      <th>target</th>\n",
       "    </tr>\n",
       "  </thead>\n",
       "  <tbody>\n",
       "    <tr>\n",
       "      <th>2215</th>\n",
       "      <td>3</td>\n",
       "    </tr>\n",
       "    <tr>\n",
       "      <th>2582</th>\n",
       "      <td>1</td>\n",
       "    </tr>\n",
       "    <tr>\n",
       "      <th>1662</th>\n",
       "      <td>1</td>\n",
       "    </tr>\n",
       "    <tr>\n",
       "      <th>3027</th>\n",
       "      <td>1</td>\n",
       "    </tr>\n",
       "    <tr>\n",
       "      <th>4343</th>\n",
       "      <td>0</td>\n",
       "    </tr>\n",
       "  </tbody>\n",
       "</table>\n",
       "</div>"
      ],
      "text/plain": [
       "      target\n",
       "2215       3\n",
       "2582       1\n",
       "1662       1\n",
       "3027       1\n",
       "4343       0"
      ]
     },
     "execution_count": 25,
     "metadata": {},
     "output_type": "execute_result"
    }
   ],
   "source": [
    "ytest.head()"
   ]
  },
  {
   "cell_type": "markdown",
   "metadata": {},
   "source": [
    "### Create a neural network"
   ]
  },
  {
   "attachments": {
    "image.png": {
     "image/png": "[encoded data removed]"
    }
   },
   "cell_type": "markdown",
   "metadata": {},
   "source": [
    "![image.png](attachment:image.png)"
   ]
  },
  {
   "cell_type": "code",
   "execution_count": 26,
   "metadata": {},
   "outputs": [],
   "source": [
    "from keras.models import Sequential\n",
    "from keras.layers import Dense, Dropout\n",
    "from keras.callbacks import EarlyStopping"
   ]
  },
  {
   "cell_type": "code",
   "execution_count": 27,
   "metadata": {},
   "outputs": [
    {
     "data": {
      "text/plain": [
       "30"
      ]
     },
     "execution_count": 27,
     "metadata": {},
     "output_type": "execute_result"
    }
   ],
   "source": [
    "xtrain.shape[1]"
   ]
  },
  {
   "cell_type": "code",
   "execution_count": 28,
   "metadata": {},
   "outputs": [
    {
     "data": {
      "text/plain": [
       "(6400, 4)"
      ]
     },
     "execution_count": 28,
     "metadata": {},
     "output_type": "execute_result"
    }
   ],
   "source": [
    "ytrain_cat.shape"
   ]
  },
  {
   "cell_type": "code",
   "execution_count": 29,
   "metadata": {},
   "outputs": [
    {
     "name": "stdout",
     "output_type": "stream",
     "text": [
      "WARNING:tensorflow:From e:\\Deep Learning 6_8 pm Tue Wed\\repository\\venv\\Lib\\site-packages\\keras\\src\\backend.py:873: The name tf.get_default_graph is deprecated. Please use tf.compat.v1.get_default_graph instead.\n",
      "\n"
     ]
    }
   ],
   "source": [
    "model = Sequential()\n",
    "\n",
    "# Hidden Layer 1\n",
    "model.add(Dense(64, activation='relu', input_dim=xtrain.shape[1]))\n",
    "model.add(Dropout(0.3))\n",
    "\n",
    "# Hidden Layer 2\n",
    "model.add(Dense(32, activation='relu'))\n",
    "model.add(Dropout(0.25))\n",
    "\n",
    "# Output Layer\n",
    "model.add(Dense(4, activation='softmax'))"
   ]
  },
  {
   "cell_type": "code",
   "execution_count": 30,
   "metadata": {},
   "outputs": [
    {
     "name": "stdout",
     "output_type": "stream",
     "text": [
      "Model: \"sequential\"\n",
      "_________________________________________________________________\n",
      " Layer (type)                Output Shape              Param #   \n",
      "=================================================================\n",
      " dense (Dense)               (None, 64)                1984      \n",
      "                                                                 \n",
      " dropout (Dropout)           (None, 64)                0         \n",
      "                                                                 \n",
      " dense_1 (Dense)             (None, 32)                2080      \n",
      "                                                                 \n",
      " dropout_1 (Dropout)         (None, 32)                0         \n",
      "                                                                 \n",
      " dense_2 (Dense)             (None, 4)                 132       \n",
      "                                                                 \n",
      "=================================================================\n",
      "Total params: 4196 (16.39 KB)\n",
      "Trainable params: 4196 (16.39 KB)\n",
      "Non-trainable params: 0 (0.00 Byte)\n",
      "_________________________________________________________________\n"
     ]
    }
   ],
   "source": [
    "model.summary()"
   ]
  },
  {
   "cell_type": "markdown",
   "metadata": {},
   "source": [
    "### Compile the model"
   ]
  },
  {
   "cell_type": "code",
   "execution_count": 31,
   "metadata": {},
   "outputs": [
    {
     "name": "stdout",
     "output_type": "stream",
     "text": [
      "WARNING:tensorflow:From e:\\Deep Learning 6_8 pm Tue Wed\\repository\\venv\\Lib\\site-packages\\keras\\src\\optimizers\\__init__.py:309: The name tf.train.Optimizer is deprecated. Please use tf.compat.v1.train.Optimizer instead.\n",
      "\n"
     ]
    }
   ],
   "source": [
    "model.compile(optimizer='adam', loss='categorical_crossentropy', metrics=['accuracy'])"
   ]
  },
  {
   "cell_type": "markdown",
   "metadata": {},
   "source": [
    "### Add Early Stopping"
   ]
  },
  {
   "cell_type": "code",
   "execution_count": 32,
   "metadata": {},
   "outputs": [],
   "source": [
    "early_stop = EarlyStopping(monitor='val_loss', patience=10)"
   ]
  },
  {
   "cell_type": "code",
   "execution_count": 33,
   "metadata": {},
   "outputs": [
    {
     "name": "stdout",
     "output_type": "stream",
     "text": [
      "Epoch 1/200\n",
      "WARNING:tensorflow:From e:\\Deep Learning 6_8 pm Tue Wed\\repository\\venv\\Lib\\site-packages\\keras\\src\\utils\\tf_utils.py:492: The name tf.ragged.RaggedTensorValue is deprecated. Please use tf.compat.v1.ragged.RaggedTensorValue instead.\n",
      "\n",
      "WARNING:tensorflow:From e:\\Deep Learning 6_8 pm Tue Wed\\repository\\venv\\Lib\\site-packages\\keras\\src\\engine\\base_layer_utils.py:384: The name tf.executing_eagerly_outside_functions is deprecated. Please use tf.compat.v1.executing_eagerly_outside_functions instead.\n",
      "\n",
      "160/160 [==============================] - 1s 2ms/step - loss: 1.2427 - accuracy: 0.4180 - val_loss: 1.0145 - val_accuracy: 0.5922\n",
      "Epoch 2/200\n",
      "160/160 [==============================] - 0s 1ms/step - loss: 0.9920 - accuracy: 0.5709 - val_loss: 0.8899 - val_accuracy: 0.6430\n",
      "Epoch 3/200\n",
      "160/160 [==============================] - 0s 1ms/step - loss: 0.8946 - accuracy: 0.6166 - val_loss: 0.8179 - val_accuracy: 0.6719\n",
      "Epoch 4/200\n",
      "160/160 [==============================] - 0s 1ms/step - loss: 0.8266 - accuracy: 0.6564 - val_loss: 0.7665 - val_accuracy: 0.6906\n",
      "Epoch 5/200\n",
      "160/160 [==============================] - 0s 2ms/step - loss: 0.7763 - accuracy: 0.6836 - val_loss: 0.7244 - val_accuracy: 0.7109\n",
      "Epoch 6/200\n",
      "160/160 [==============================] - 0s 1ms/step - loss: 0.7203 - accuracy: 0.7098 - val_loss: 0.6829 - val_accuracy: 0.7492\n",
      "Epoch 7/200\n",
      "160/160 [==============================] - 0s 1ms/step - loss: 0.6989 - accuracy: 0.7221 - val_loss: 0.6492 - val_accuracy: 0.7539\n",
      "Epoch 8/200\n",
      "160/160 [==============================] - 0s 2ms/step - loss: 0.6630 - accuracy: 0.7385 - val_loss: 0.6218 - val_accuracy: 0.7602\n",
      "Epoch 9/200\n",
      "160/160 [==============================] - 0s 1ms/step - loss: 0.6211 - accuracy: 0.7557 - val_loss: 0.5899 - val_accuracy: 0.7852\n",
      "Epoch 10/200\n",
      "160/160 [==============================] - 0s 1ms/step - loss: 0.6066 - accuracy: 0.7684 - val_loss: 0.5606 - val_accuracy: 0.7953\n",
      "Epoch 11/200\n",
      "160/160 [==============================] - 0s 1ms/step - loss: 0.5748 - accuracy: 0.7760 - val_loss: 0.5372 - val_accuracy: 0.8016\n",
      "Epoch 12/200\n",
      "160/160 [==============================] - 0s 1ms/step - loss: 0.5559 - accuracy: 0.7941 - val_loss: 0.5221 - val_accuracy: 0.8062\n",
      "Epoch 13/200\n",
      "160/160 [==============================] - 0s 1ms/step - loss: 0.5347 - accuracy: 0.7961 - val_loss: 0.4987 - val_accuracy: 0.8258\n",
      "Epoch 14/200\n",
      "160/160 [==============================] - 0s 1ms/step - loss: 0.5070 - accuracy: 0.8045 - val_loss: 0.4822 - val_accuracy: 0.8266\n",
      "Epoch 15/200\n",
      "160/160 [==============================] - 0s 1ms/step - loss: 0.4945 - accuracy: 0.8162 - val_loss: 0.4756 - val_accuracy: 0.8375\n",
      "Epoch 16/200\n",
      "160/160 [==============================] - 0s 1ms/step - loss: 0.4878 - accuracy: 0.8158 - val_loss: 0.4640 - val_accuracy: 0.8453\n",
      "Epoch 17/200\n",
      "160/160 [==============================] - 0s 1ms/step - loss: 0.4615 - accuracy: 0.8287 - val_loss: 0.4484 - val_accuracy: 0.8508\n",
      "Epoch 18/200\n",
      "160/160 [==============================] - 0s 1ms/step - loss: 0.4679 - accuracy: 0.8344 - val_loss: 0.4402 - val_accuracy: 0.8578\n",
      "Epoch 19/200\n",
      "160/160 [==============================] - 0s 1ms/step - loss: 0.4420 - accuracy: 0.8361 - val_loss: 0.4292 - val_accuracy: 0.8625\n",
      "Epoch 20/200\n",
      "160/160 [==============================] - 0s 2ms/step - loss: 0.4321 - accuracy: 0.8387 - val_loss: 0.4208 - val_accuracy: 0.8594\n",
      "Epoch 21/200\n",
      "160/160 [==============================] - 0s 1ms/step - loss: 0.4351 - accuracy: 0.8369 - val_loss: 0.4188 - val_accuracy: 0.8656\n",
      "Epoch 22/200\n",
      "160/160 [==============================] - 0s 1ms/step - loss: 0.4329 - accuracy: 0.8393 - val_loss: 0.4192 - val_accuracy: 0.8633\n",
      "Epoch 23/200\n",
      "160/160 [==============================] - 0s 2ms/step - loss: 0.4108 - accuracy: 0.8508 - val_loss: 0.4127 - val_accuracy: 0.8648\n",
      "Epoch 24/200\n",
      "160/160 [==============================] - 0s 2ms/step - loss: 0.4079 - accuracy: 0.8510 - val_loss: 0.4051 - val_accuracy: 0.8687\n",
      "Epoch 25/200\n",
      "160/160 [==============================] - 0s 2ms/step - loss: 0.4168 - accuracy: 0.8494 - val_loss: 0.4029 - val_accuracy: 0.8711\n",
      "Epoch 26/200\n",
      "160/160 [==============================] - 0s 2ms/step - loss: 0.3924 - accuracy: 0.8494 - val_loss: 0.3977 - val_accuracy: 0.8703\n",
      "Epoch 27/200\n",
      "160/160 [==============================] - 0s 1ms/step - loss: 0.3813 - accuracy: 0.8596 - val_loss: 0.4003 - val_accuracy: 0.8711\n",
      "Epoch 28/200\n",
      "160/160 [==============================] - 0s 2ms/step - loss: 0.3934 - accuracy: 0.8566 - val_loss: 0.3966 - val_accuracy: 0.8742\n",
      "Epoch 29/200\n",
      "160/160 [==============================] - 0s 1ms/step - loss: 0.3744 - accuracy: 0.8666 - val_loss: 0.3938 - val_accuracy: 0.8789\n",
      "Epoch 30/200\n",
      "160/160 [==============================] - 0s 1ms/step - loss: 0.3686 - accuracy: 0.8687 - val_loss: 0.3892 - val_accuracy: 0.8758\n",
      "Epoch 31/200\n",
      "160/160 [==============================] - 0s 2ms/step - loss: 0.3745 - accuracy: 0.8611 - val_loss: 0.3924 - val_accuracy: 0.8797\n",
      "Epoch 32/200\n",
      "160/160 [==============================] - 0s 1ms/step - loss: 0.3707 - accuracy: 0.8705 - val_loss: 0.3903 - val_accuracy: 0.8750\n",
      "Epoch 33/200\n",
      "160/160 [==============================] - 0s 1ms/step - loss: 0.3572 - accuracy: 0.8742 - val_loss: 0.3910 - val_accuracy: 0.8758\n",
      "Epoch 34/200\n",
      "160/160 [==============================] - 0s 1ms/step - loss: 0.3589 - accuracy: 0.8752 - val_loss: 0.3887 - val_accuracy: 0.8766\n",
      "Epoch 35/200\n",
      "160/160 [==============================] - 0s 1ms/step - loss: 0.3535 - accuracy: 0.8748 - val_loss: 0.3879 - val_accuracy: 0.8781\n",
      "Epoch 36/200\n",
      "160/160 [==============================] - 0s 1ms/step - loss: 0.3485 - accuracy: 0.8768 - val_loss: 0.3821 - val_accuracy: 0.8852\n",
      "Epoch 37/200\n",
      "160/160 [==============================] - 0s 1ms/step - loss: 0.3507 - accuracy: 0.8727 - val_loss: 0.3838 - val_accuracy: 0.8797\n",
      "Epoch 38/200\n",
      "160/160 [==============================] - 0s 1ms/step - loss: 0.3433 - accuracy: 0.8787 - val_loss: 0.3866 - val_accuracy: 0.8867\n",
      "Epoch 39/200\n",
      "160/160 [==============================] - 0s 1ms/step - loss: 0.3466 - accuracy: 0.8768 - val_loss: 0.3839 - val_accuracy: 0.8844\n",
      "Epoch 40/200\n",
      "160/160 [==============================] - 0s 1ms/step - loss: 0.3530 - accuracy: 0.8713 - val_loss: 0.3852 - val_accuracy: 0.8836\n",
      "Epoch 41/200\n",
      "160/160 [==============================] - 0s 1ms/step - loss: 0.3387 - accuracy: 0.8838 - val_loss: 0.3796 - val_accuracy: 0.8859\n",
      "Epoch 42/200\n",
      "160/160 [==============================] - 0s 1ms/step - loss: 0.3449 - accuracy: 0.8775 - val_loss: 0.3868 - val_accuracy: 0.8797\n",
      "Epoch 43/200\n",
      "160/160 [==============================] - 0s 1ms/step - loss: 0.3308 - accuracy: 0.8813 - val_loss: 0.3829 - val_accuracy: 0.8891\n",
      "Epoch 44/200\n",
      "160/160 [==============================] - 0s 1ms/step - loss: 0.3281 - accuracy: 0.8834 - val_loss: 0.3907 - val_accuracy: 0.8852\n",
      "Epoch 45/200\n",
      "160/160 [==============================] - 0s 1ms/step - loss: 0.3278 - accuracy: 0.8830 - val_loss: 0.3868 - val_accuracy: 0.8883\n",
      "Epoch 46/200\n",
      "160/160 [==============================] - 0s 1ms/step - loss: 0.3186 - accuracy: 0.8910 - val_loss: 0.3811 - val_accuracy: 0.8875\n",
      "Epoch 47/200\n",
      "160/160 [==============================] - 0s 1ms/step - loss: 0.3406 - accuracy: 0.8791 - val_loss: 0.3805 - val_accuracy: 0.8883\n",
      "Epoch 48/200\n",
      "160/160 [==============================] - 0s 1ms/step - loss: 0.3118 - accuracy: 0.8957 - val_loss: 0.3816 - val_accuracy: 0.8859\n",
      "Epoch 49/200\n",
      "160/160 [==============================] - 0s 2ms/step - loss: 0.3188 - accuracy: 0.8869 - val_loss: 0.3806 - val_accuracy: 0.8859\n",
      "Epoch 50/200\n",
      "160/160 [==============================] - 0s 2ms/step - loss: 0.3209 - accuracy: 0.8885 - val_loss: 0.3852 - val_accuracy: 0.8867\n",
      "Epoch 51/200\n",
      "160/160 [==============================] - 0s 2ms/step - loss: 0.3182 - accuracy: 0.8875 - val_loss: 0.3838 - val_accuracy: 0.8875\n"
     ]
    }
   ],
   "source": [
    "hist = model.fit(xtrain, ytrain_cat, validation_split=0.2, epochs=200, callbacks=[early_stop])"
   ]
  },
  {
   "cell_type": "markdown",
   "metadata": {},
   "source": [
    "### Observe the learning curve"
   ]
  },
  {
   "cell_type": "code",
   "execution_count": 34,
   "metadata": {},
   "outputs": [
    {
     "data": {
      "image/png": "[encoded data removed]",
      "text/plain": [
       "<Figure size 1200x600 with 1 Axes>"
      ]
     },
     "metadata": {},
     "output_type": "display_data"
    }
   ],
   "source": [
    "import matplotlib.pyplot as plt \n",
    "plt.figure(figsize=(12,6))\n",
    "plt.plot(hist.history['loss'], label='Train Loss')\n",
    "plt.plot(hist.history['val_loss'], label='Validation Loss')\n",
    "plt.xlabel('Epochs')\n",
    "plt.ylabel('Categorical Cross Entropy')\n",
    "plt.title('Learning Curve')\n",
    "plt.show()"
   ]
  },
  {
   "cell_type": "markdown",
   "metadata": {},
   "source": [
    "### Evaluate the model"
   ]
  },
  {
   "cell_type": "code",
   "execution_count": 35,
   "metadata": {},
   "outputs": [
    {
     "name": "stdout",
     "output_type": "stream",
     "text": [
      "200/200 [==============================] - 0s 880us/step - loss: 0.2081 - accuracy: 0.9430\n"
     ]
    },
    {
     "data": {
      "text/plain": [
       "[0.20806041359901428, 0.9429687261581421]"
      ]
     },
     "execution_count": 35,
     "metadata": {},
     "output_type": "execute_result"
    }
   ],
   "source": [
    "model.evaluate(xtrain, ytrain_cat)"
   ]
  },
  {
   "cell_type": "code",
   "execution_count": 36,
   "metadata": {},
   "outputs": [
    {
     "name": "stdout",
     "output_type": "stream",
     "text": [
      "50/50 [==============================] - 0s 986us/step - loss: 0.3197 - accuracy: 0.8994\n"
     ]
    },
    {
     "data": {
      "text/plain": [
       "[0.3197164833545685, 0.8993750214576721]"
      ]
     },
     "execution_count": 36,
     "metadata": {},
     "output_type": "execute_result"
    }
   ],
   "source": [
    "model.evaluate(xtest, ytest_cat)"
   ]
  },
  {
   "cell_type": "markdown",
   "metadata": {},
   "source": [
    "### Predcit values for train and test"
   ]
  },
  {
   "cell_type": "code",
   "execution_count": 44,
   "metadata": {},
   "outputs": [
    {
     "name": "stdout",
     "output_type": "stream",
     "text": [
      "  1/200 [..............................] - ETA: 3s"
     ]
    },
    {
     "name": "stdout",
     "output_type": "stream",
     "text": [
      "200/200 [==============================] - 0s 809us/step\n",
      "50/50 [==============================] - 0s 757us/step\n"
     ]
    }
   ],
   "source": [
    "yprob_tr = model.predict(xtrain)\n",
    "yprob_ts = model.predict(xtest)"
   ]
  },
  {
   "cell_type": "code",
   "execution_count": 45,
   "metadata": {},
   "outputs": [
    {
     "data": {
      "text/plain": [
       "array([[9.5671244e-02, 2.1544776e-03, 2.6564722e-04, 9.0190864e-01],\n",
       "       [6.3858442e-06, 2.6476075e-04, 9.9972624e-01, 2.5148338e-06],\n",
       "       [9.8450679e-01, 9.9017285e-03, 2.6467878e-03, 2.9447200e-03],\n",
       "       [7.1800896e-03, 9.5252171e-02, 3.0629433e-06, 8.9756477e-01],\n",
       "       [1.6183989e-02, 6.7881145e-02, 2.8400469e-04, 9.1565084e-01]],\n",
       "      dtype=float32)"
      ]
     },
     "execution_count": 45,
     "metadata": {},
     "output_type": "execute_result"
    }
   ],
   "source": [
    "yprob_tr[0:5]"
   ]
  },
  {
   "cell_type": "code",
   "execution_count": 46,
   "metadata": {},
   "outputs": [
    {
     "data": {
      "text/plain": [
       "array([[5.9043447e-04, 6.2955555e-06, 5.6653761e-04, 9.9883670e-01],\n",
       "       [1.0102964e-05, 9.9897999e-01, 1.0052554e-03, 4.6769096e-06],\n",
       "       [5.5201100e-03, 9.9103957e-01, 1.4874727e-03, 1.9528409e-03],\n",
       "       [2.6724035e-01, 5.5569327e-01, 1.2817696e-03, 1.7578451e-01],\n",
       "       [9.5563042e-01, 4.3503333e-02, 3.6637175e-06, 8.6262240e-04]],\n",
       "      dtype=float32)"
      ]
     },
     "execution_count": 46,
     "metadata": {},
     "output_type": "execute_result"
    }
   ],
   "source": [
    "yprob_ts[0:5]"
   ]
  },
  {
   "cell_type": "markdown",
   "metadata": {},
   "source": [
    "### Convert probabilites to predictions"
   ]
  },
  {
   "cell_type": "code",
   "execution_count": 47,
   "metadata": {},
   "outputs": [
    {
     "data": {
      "text/plain": [
       "array([3, 2, 0, ..., 2, 0, 3], dtype=int64)"
      ]
     },
     "execution_count": 47,
     "metadata": {},
     "output_type": "execute_result"
    }
   ],
   "source": [
    "ypred_tr = np.argmax(yprob_tr, axis=-1)\n",
    "ypred_tr"
   ]
  },
  {
   "cell_type": "code",
   "execution_count": 48,
   "metadata": {},
   "outputs": [
    {
     "data": {
      "text/plain": [
       "array([3, 1, 1, ..., 3, 3, 1], dtype=int64)"
      ]
     },
     "execution_count": 48,
     "metadata": {},
     "output_type": "execute_result"
    }
   ],
   "source": [
    "ypred_ts = np.argmax(yprob_ts, axis=-1)\n",
    "ypred_ts"
   ]
  },
  {
   "cell_type": "markdown",
   "metadata": {},
   "source": [
    "### Create a confusion matrix for Test"
   ]
  },
  {
   "cell_type": "code",
   "execution_count": 49,
   "metadata": {},
   "outputs": [
    {
     "data": {
      "text/plain": [
       "<sklearn.metrics._plot.confusion_matrix.ConfusionMatrixDisplay at 0x28b4e6318d0>"
      ]
     },
     "execution_count": 49,
     "metadata": {},
     "output_type": "execute_result"
    },
    {
     "data": {
      "image/png": "[encoded data removed]",
      "text/plain": [
       "<Figure size 640x480 with 2 Axes>"
      ]
     },
     "metadata": {},
     "output_type": "display_data"
    }
   ],
   "source": [
    "from sklearn.metrics import confusion_matrix, ConfusionMatrixDisplay\n",
    "cf = confusion_matrix(ytest, ypred_ts)\n",
    "cfd = ConfusionMatrixDisplay(cf)\n",
    "cfd.plot()"
   ]
  },
  {
   "cell_type": "markdown",
   "metadata": {},
   "source": [
    "### Print classification report"
   ]
  },
  {
   "cell_type": "code",
   "execution_count": 50,
   "metadata": {},
   "outputs": [
    {
     "name": "stdout",
     "output_type": "stream",
     "text": [
      "              precision    recall  f1-score   support\n",
      "\n",
      "           0       0.88      0.90      0.89       381\n",
      "           1       0.94      0.89      0.91       417\n",
      "           2       0.92      0.92      0.92       424\n",
      "           3       0.86      0.89      0.88       378\n",
      "\n",
      "    accuracy                           0.90      1600\n",
      "   macro avg       0.90      0.90      0.90      1600\n",
      "weighted avg       0.90      0.90      0.90      1600\n",
      "\n"
     ]
    }
   ],
   "source": [
    "from sklearn.metrics import classification_report\n",
    "print(classification_report(ytest, ypred_ts))"
   ]
  },
  {
   "cell_type": "markdown",
   "metadata": {},
   "source": [
    "### Saving the model for future use"
   ]
  },
  {
   "cell_type": "code",
   "execution_count": 51,
   "metadata": {},
   "outputs": [],
   "source": [
    "model.save('MutliclassExample.keras')"
   ]
  },
  {
   "cell_type": "markdown",
   "metadata": {},
   "source": [
    "### Loading the model"
   ]
  },
  {
   "cell_type": "code",
   "execution_count": 52,
   "metadata": {},
   "outputs": [],
   "source": [
    "from keras.models import load_model\n",
    "nn = load_model('MutliclassExample.keras')"
   ]
  },
  {
   "cell_type": "code",
   "execution_count": 53,
   "metadata": {},
   "outputs": [
    {
     "name": "stdout",
     "output_type": "stream",
     "text": [
      "Model: \"sequential\"\n",
      "_________________________________________________________________\n",
      " Layer (type)                Output Shape              Param #   \n",
      "=================================================================\n",
      " dense (Dense)               (None, 64)                1984      \n",
      "                                                                 \n",
      " dropout (Dropout)           (None, 64)                0         \n",
      "                                                                 \n",
      " dense_1 (Dense)             (None, 32)                2080      \n",
      "                                                                 \n",
      " dropout_1 (Dropout)         (None, 32)                0         \n",
      "                                                                 \n",
      " dense_2 (Dense)             (None, 4)                 132       \n",
      "                                                                 \n",
      "=================================================================\n",
      "Total params: 4196 (16.39 KB)\n",
      "Trainable params: 4196 (16.39 KB)\n",
      "Non-trainable params: 0 (0.00 Byte)\n",
      "_________________________________________________________________\n"
     ]
    }
   ],
   "source": [
    "nn.summary()"
   ]
  },
  {
   "cell_type": "code",
   "execution_count": null,
   "metadata": {},
   "outputs": [],
   "source": []
  }
 ],
 "metadata": {
  "kernelspec": {
   "display_name": "venv",
   "language": "python",
   "name": "python3"
  },
  "language_info": {
   "codemirror_mode": {
    "name": "ipython",
    "version": 3
   },
   "file_extension": ".py",
   "mimetype": "text/x-python",
   "name": "python",
   "nbconvert_exporter": "python",
   "pygments_lexer": "ipython3",
   "version": "3.11.7"
  }
 },
 "nbformat": 4,
 "nbformat_minor": 2
}
